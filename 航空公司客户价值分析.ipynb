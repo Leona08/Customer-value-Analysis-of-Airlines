{
 "cells": [
  {
   "cell_type": "markdown",
   "metadata": {},
   "source": [
    "数据探索分析"
   ]
  },
  {
   "cell_type": "code",
   "execution_count": 2,
   "metadata": {},
   "outputs": [],
   "source": [
    "import pandas as pd\n",
    "datafile = 'air_data.csv'\n",
    "# # 航空原始数据，第一行为属性标签\n",
    "# resultfile = 'explore.csv'\n",
    "data = pd.read_csv(datafile, encoding = 'utf-8')"
   ]
  },
  {
   "cell_type": "code",
   "execution_count": 68,
   "metadata": {},
   "outputs": [
    {
     "name": "stdout",
     "output_type": "stream",
     "text": [
      "Index(['MEMBER_NO', 'FFP_DATE', 'FIRST_FLIGHT_DATE', 'GENDER', 'FFP_TIER',\n",
      "       'WORK_CITY', 'WORK_PROVINCE', 'WORK_COUNTRY', 'AGE', 'LOAD_TIME',\n",
      "       'FLIGHT_COUNT', 'BP_SUM', 'EP_SUM_YR_1', 'EP_SUM_YR_2', 'SUM_YR_1',\n",
      "       'SUM_YR_2', 'SEG_KM_SUM', 'WEIGHTED_SEG_KM', 'LAST_FLIGHT_DATE',\n",
      "       'AVG_FLIGHT_COUNT', 'AVG_BP_SUM', 'BEGIN_TO_FIRST', 'LAST_TO_END',\n",
      "       'AVG_INTERVAL', 'MAX_INTERVAL', 'ADD_POINTS_SUM_YR_1',\n",
      "       'ADD_POINTS_SUM_YR_2', 'EXCHANGE_COUNT', 'avg_discount',\n",
      "       'P1Y_Flight_Count', 'L1Y_Flight_Count', 'P1Y_BP_SUM', 'L1Y_BP_SUM',\n",
      "       'EP_SUM', 'ADD_Point_SUM', 'Eli_Add_Point_Sum', 'L1Y_ELi_Add_Points',\n",
      "       'Points_Sum', 'L1Y_Points_Sum', 'Ration_L1Y_Flight_Count',\n",
      "       'Ration_P1Y_Flight_Count', 'Ration_P1Y_BPS', 'Ration_L1Y_BPS',\n",
      "       'Point_NotFlight'],\n",
      "      dtype='object')\n",
      "44\n"
     ]
    }
   ],
   "source": [
    "print(data.columns)\n",
    "print(len(list(data.columns)))"
   ]
  },
  {
   "cell_type": "code",
   "execution_count": 15,
   "metadata": {},
   "outputs": [],
   "source": [
    "data.head(30).to_csv('air_data_sample.csv')"
   ]
  },
  {
   "cell_type": "code",
   "execution_count": 2,
   "metadata": {},
   "outputs": [],
   "source": [
    "# 对数据的基本描述，percentiles参数是指定计算多少的分位数表\n",
    "explore = data.describe(percentiles=[],include='all').T"
   ]
  },
  {
   "cell_type": "code",
   "execution_count": 3,
   "metadata": {},
   "outputs": [
    {
     "data": {
      "text/html": [
       "<div>\n",
       "<style scoped>\n",
       "    .dataframe tbody tr th:only-of-type {\n",
       "        vertical-align: middle;\n",
       "    }\n",
       "\n",
       "    .dataframe tbody tr th {\n",
       "        vertical-align: top;\n",
       "    }\n",
       "\n",
       "    .dataframe thead th {\n",
       "        text-align: right;\n",
       "    }\n",
       "</style>\n",
       "<table border=\"1\" class=\"dataframe\">\n",
       "  <thead>\n",
       "    <tr style=\"text-align: right;\">\n",
       "      <th></th>\n",
       "      <th>count</th>\n",
       "      <th>unique</th>\n",
       "      <th>top</th>\n",
       "      <th>freq</th>\n",
       "      <th>mean</th>\n",
       "      <th>std</th>\n",
       "      <th>min</th>\n",
       "      <th>50%</th>\n",
       "      <th>max</th>\n",
       "    </tr>\n",
       "  </thead>\n",
       "  <tbody>\n",
       "    <tr>\n",
       "      <th>MEMBER_NO</th>\n",
       "      <td>62988</td>\n",
       "      <td>NaN</td>\n",
       "      <td>NaN</td>\n",
       "      <td>NaN</td>\n",
       "      <td>31494.5</td>\n",
       "      <td>18183.2</td>\n",
       "      <td>1</td>\n",
       "      <td>31494.5</td>\n",
       "      <td>62988</td>\n",
       "    </tr>\n",
       "    <tr>\n",
       "      <th>FFP_DATE</th>\n",
       "      <td>62988</td>\n",
       "      <td>3068</td>\n",
       "      <td>2011/01/13</td>\n",
       "      <td>184</td>\n",
       "      <td>NaN</td>\n",
       "      <td>NaN</td>\n",
       "      <td>NaN</td>\n",
       "      <td>NaN</td>\n",
       "      <td>NaN</td>\n",
       "    </tr>\n",
       "    <tr>\n",
       "      <th>FIRST_FLIGHT_DATE</th>\n",
       "      <td>62988</td>\n",
       "      <td>3406</td>\n",
       "      <td>2013/02/16</td>\n",
       "      <td>96</td>\n",
       "      <td>NaN</td>\n",
       "      <td>NaN</td>\n",
       "      <td>NaN</td>\n",
       "      <td>NaN</td>\n",
       "      <td>NaN</td>\n",
       "    </tr>\n",
       "    <tr>\n",
       "      <th>GENDER</th>\n",
       "      <td>62985</td>\n",
       "      <td>2</td>\n",
       "      <td>男</td>\n",
       "      <td>48134</td>\n",
       "      <td>NaN</td>\n",
       "      <td>NaN</td>\n",
       "      <td>NaN</td>\n",
       "      <td>NaN</td>\n",
       "      <td>NaN</td>\n",
       "    </tr>\n",
       "    <tr>\n",
       "      <th>FFP_TIER</th>\n",
       "      <td>62988</td>\n",
       "      <td>NaN</td>\n",
       "      <td>NaN</td>\n",
       "      <td>NaN</td>\n",
       "      <td>4.10216</td>\n",
       "      <td>0.373856</td>\n",
       "      <td>4</td>\n",
       "      <td>4</td>\n",
       "      <td>6</td>\n",
       "    </tr>\n",
       "    <tr>\n",
       "      <th>WORK_CITY</th>\n",
       "      <td>60719</td>\n",
       "      <td>3310</td>\n",
       "      <td>广州</td>\n",
       "      <td>9385</td>\n",
       "      <td>NaN</td>\n",
       "      <td>NaN</td>\n",
       "      <td>NaN</td>\n",
       "      <td>NaN</td>\n",
       "      <td>NaN</td>\n",
       "    </tr>\n",
       "    <tr>\n",
       "      <th>WORK_PROVINCE</th>\n",
       "      <td>59740</td>\n",
       "      <td>1185</td>\n",
       "      <td>广东</td>\n",
       "      <td>17507</td>\n",
       "      <td>NaN</td>\n",
       "      <td>NaN</td>\n",
       "      <td>NaN</td>\n",
       "      <td>NaN</td>\n",
       "      <td>NaN</td>\n",
       "    </tr>\n",
       "    <tr>\n",
       "      <th>WORK_COUNTRY</th>\n",
       "      <td>62962</td>\n",
       "      <td>118</td>\n",
       "      <td>CN</td>\n",
       "      <td>57748</td>\n",
       "      <td>NaN</td>\n",
       "      <td>NaN</td>\n",
       "      <td>NaN</td>\n",
       "      <td>NaN</td>\n",
       "      <td>NaN</td>\n",
       "    </tr>\n",
       "    <tr>\n",
       "      <th>AGE</th>\n",
       "      <td>62568</td>\n",
       "      <td>NaN</td>\n",
       "      <td>NaN</td>\n",
       "      <td>NaN</td>\n",
       "      <td>42.4763</td>\n",
       "      <td>9.88591</td>\n",
       "      <td>6</td>\n",
       "      <td>41</td>\n",
       "      <td>110</td>\n",
       "    </tr>\n",
       "    <tr>\n",
       "      <th>LOAD_TIME</th>\n",
       "      <td>62988</td>\n",
       "      <td>1</td>\n",
       "      <td>2014/03/31</td>\n",
       "      <td>62988</td>\n",
       "      <td>NaN</td>\n",
       "      <td>NaN</td>\n",
       "      <td>NaN</td>\n",
       "      <td>NaN</td>\n",
       "      <td>NaN</td>\n",
       "    </tr>\n",
       "    <tr>\n",
       "      <th>FLIGHT_COUNT</th>\n",
       "      <td>62988</td>\n",
       "      <td>NaN</td>\n",
       "      <td>NaN</td>\n",
       "      <td>NaN</td>\n",
       "      <td>11.8394</td>\n",
       "      <td>14.0495</td>\n",
       "      <td>2</td>\n",
       "      <td>7</td>\n",
       "      <td>213</td>\n",
       "    </tr>\n",
       "    <tr>\n",
       "      <th>BP_SUM</th>\n",
       "      <td>62988</td>\n",
       "      <td>NaN</td>\n",
       "      <td>NaN</td>\n",
       "      <td>NaN</td>\n",
       "      <td>10925.1</td>\n",
       "      <td>16339.5</td>\n",
       "      <td>0</td>\n",
       "      <td>5700</td>\n",
       "      <td>505308</td>\n",
       "    </tr>\n",
       "    <tr>\n",
       "      <th>EP_SUM_YR_1</th>\n",
       "      <td>62988</td>\n",
       "      <td>NaN</td>\n",
       "      <td>NaN</td>\n",
       "      <td>NaN</td>\n",
       "      <td>0</td>\n",
       "      <td>0</td>\n",
       "      <td>0</td>\n",
       "      <td>0</td>\n",
       "      <td>0</td>\n",
       "    </tr>\n",
       "    <tr>\n",
       "      <th>EP_SUM_YR_2</th>\n",
       "      <td>62988</td>\n",
       "      <td>NaN</td>\n",
       "      <td>NaN</td>\n",
       "      <td>NaN</td>\n",
       "      <td>265.69</td>\n",
       "      <td>1645.7</td>\n",
       "      <td>0</td>\n",
       "      <td>0</td>\n",
       "      <td>74460</td>\n",
       "    </tr>\n",
       "    <tr>\n",
       "      <th>SUM_YR_1</th>\n",
       "      <td>62437</td>\n",
       "      <td>NaN</td>\n",
       "      <td>NaN</td>\n",
       "      <td>NaN</td>\n",
       "      <td>5355.38</td>\n",
       "      <td>8109.45</td>\n",
       "      <td>0</td>\n",
       "      <td>2800</td>\n",
       "      <td>239560</td>\n",
       "    </tr>\n",
       "    <tr>\n",
       "      <th>SUM_YR_2</th>\n",
       "      <td>62850</td>\n",
       "      <td>NaN</td>\n",
       "      <td>NaN</td>\n",
       "      <td>NaN</td>\n",
       "      <td>5604.03</td>\n",
       "      <td>8703.36</td>\n",
       "      <td>0</td>\n",
       "      <td>2773</td>\n",
       "      <td>234188</td>\n",
       "    </tr>\n",
       "    <tr>\n",
       "      <th>SEG_KM_SUM</th>\n",
       "      <td>62988</td>\n",
       "      <td>NaN</td>\n",
       "      <td>NaN</td>\n",
       "      <td>NaN</td>\n",
       "      <td>17123.9</td>\n",
       "      <td>20960.8</td>\n",
       "      <td>368</td>\n",
       "      <td>9994</td>\n",
       "      <td>580717</td>\n",
       "    </tr>\n",
       "    <tr>\n",
       "      <th>WEIGHTED_SEG_KM</th>\n",
       "      <td>62988</td>\n",
       "      <td>NaN</td>\n",
       "      <td>NaN</td>\n",
       "      <td>NaN</td>\n",
       "      <td>12777.2</td>\n",
       "      <td>17578.6</td>\n",
       "      <td>0</td>\n",
       "      <td>6978.26</td>\n",
       "      <td>558440</td>\n",
       "    </tr>\n",
       "    <tr>\n",
       "      <th>LAST_FLIGHT_DATE</th>\n",
       "      <td>62988</td>\n",
       "      <td>731</td>\n",
       "      <td>2014/03/31</td>\n",
       "      <td>959</td>\n",
       "      <td>NaN</td>\n",
       "      <td>NaN</td>\n",
       "      <td>NaN</td>\n",
       "      <td>NaN</td>\n",
       "      <td>NaN</td>\n",
       "    </tr>\n",
       "    <tr>\n",
       "      <th>AVG_FLIGHT_COUNT</th>\n",
       "      <td>62988</td>\n",
       "      <td>NaN</td>\n",
       "      <td>NaN</td>\n",
       "      <td>NaN</td>\n",
       "      <td>1.54215</td>\n",
       "      <td>1.787</td>\n",
       "      <td>0.25</td>\n",
       "      <td>0.875</td>\n",
       "      <td>26.625</td>\n",
       "    </tr>\n",
       "    <tr>\n",
       "      <th>AVG_BP_SUM</th>\n",
       "      <td>62988</td>\n",
       "      <td>NaN</td>\n",
       "      <td>NaN</td>\n",
       "      <td>NaN</td>\n",
       "      <td>1421.44</td>\n",
       "      <td>2083.12</td>\n",
       "      <td>0</td>\n",
       "      <td>752.375</td>\n",
       "      <td>63163.5</td>\n",
       "    </tr>\n",
       "    <tr>\n",
       "      <th>BEGIN_TO_FIRST</th>\n",
       "      <td>62988</td>\n",
       "      <td>NaN</td>\n",
       "      <td>NaN</td>\n",
       "      <td>NaN</td>\n",
       "      <td>120.145</td>\n",
       "      <td>159.573</td>\n",
       "      <td>0</td>\n",
       "      <td>50</td>\n",
       "      <td>729</td>\n",
       "    </tr>\n",
       "    <tr>\n",
       "      <th>LAST_TO_END</th>\n",
       "      <td>62988</td>\n",
       "      <td>NaN</td>\n",
       "      <td>NaN</td>\n",
       "      <td>NaN</td>\n",
       "      <td>176.12</td>\n",
       "      <td>183.822</td>\n",
       "      <td>1</td>\n",
       "      <td>108</td>\n",
       "      <td>731</td>\n",
       "    </tr>\n",
       "    <tr>\n",
       "      <th>AVG_INTERVAL</th>\n",
       "      <td>62988</td>\n",
       "      <td>NaN</td>\n",
       "      <td>NaN</td>\n",
       "      <td>NaN</td>\n",
       "      <td>67.7498</td>\n",
       "      <td>77.5179</td>\n",
       "      <td>0</td>\n",
       "      <td>44.6667</td>\n",
       "      <td>728</td>\n",
       "    </tr>\n",
       "    <tr>\n",
       "      <th>MAX_INTERVAL</th>\n",
       "      <td>62988</td>\n",
       "      <td>NaN</td>\n",
       "      <td>NaN</td>\n",
       "      <td>NaN</td>\n",
       "      <td>166.034</td>\n",
       "      <td>123.397</td>\n",
       "      <td>0</td>\n",
       "      <td>143</td>\n",
       "      <td>728</td>\n",
       "    </tr>\n",
       "    <tr>\n",
       "      <th>ADD_POINTS_SUM_YR_1</th>\n",
       "      <td>62988</td>\n",
       "      <td>NaN</td>\n",
       "      <td>NaN</td>\n",
       "      <td>NaN</td>\n",
       "      <td>540.317</td>\n",
       "      <td>3956.08</td>\n",
       "      <td>0</td>\n",
       "      <td>0</td>\n",
       "      <td>600000</td>\n",
       "    </tr>\n",
       "    <tr>\n",
       "      <th>ADD_POINTS_SUM_YR_2</th>\n",
       "      <td>62988</td>\n",
       "      <td>NaN</td>\n",
       "      <td>NaN</td>\n",
       "      <td>NaN</td>\n",
       "      <td>814.689</td>\n",
       "      <td>5121.8</td>\n",
       "      <td>0</td>\n",
       "      <td>0</td>\n",
       "      <td>728282</td>\n",
       "    </tr>\n",
       "    <tr>\n",
       "      <th>EXCHANGE_COUNT</th>\n",
       "      <td>62988</td>\n",
       "      <td>NaN</td>\n",
       "      <td>NaN</td>\n",
       "      <td>NaN</td>\n",
       "      <td>0.319775</td>\n",
       "      <td>1.136</td>\n",
       "      <td>0</td>\n",
       "      <td>0</td>\n",
       "      <td>46</td>\n",
       "    </tr>\n",
       "    <tr>\n",
       "      <th>avg_discount</th>\n",
       "      <td>62988</td>\n",
       "      <td>NaN</td>\n",
       "      <td>NaN</td>\n",
       "      <td>NaN</td>\n",
       "      <td>0.721558</td>\n",
       "      <td>0.185427</td>\n",
       "      <td>0</td>\n",
       "      <td>0.711856</td>\n",
       "      <td>1.5</td>\n",
       "    </tr>\n",
       "    <tr>\n",
       "      <th>P1Y_Flight_Count</th>\n",
       "      <td>62988</td>\n",
       "      <td>NaN</td>\n",
       "      <td>NaN</td>\n",
       "      <td>NaN</td>\n",
       "      <td>5.76626</td>\n",
       "      <td>7.21092</td>\n",
       "      <td>0</td>\n",
       "      <td>3</td>\n",
       "      <td>118</td>\n",
       "    </tr>\n",
       "    <tr>\n",
       "      <th>L1Y_Flight_Count</th>\n",
       "      <td>62988</td>\n",
       "      <td>NaN</td>\n",
       "      <td>NaN</td>\n",
       "      <td>NaN</td>\n",
       "      <td>6.07316</td>\n",
       "      <td>8.17513</td>\n",
       "      <td>0</td>\n",
       "      <td>3</td>\n",
       "      <td>111</td>\n",
       "    </tr>\n",
       "    <tr>\n",
       "      <th>P1Y_BP_SUM</th>\n",
       "      <td>62988</td>\n",
       "      <td>NaN</td>\n",
       "      <td>NaN</td>\n",
       "      <td>NaN</td>\n",
       "      <td>5366.72</td>\n",
       "      <td>8537.77</td>\n",
       "      <td>0</td>\n",
       "      <td>2692</td>\n",
       "      <td>246197</td>\n",
       "    </tr>\n",
       "    <tr>\n",
       "      <th>L1Y_BP_SUM</th>\n",
       "      <td>62988</td>\n",
       "      <td>NaN</td>\n",
       "      <td>NaN</td>\n",
       "      <td>NaN</td>\n",
       "      <td>5558.36</td>\n",
       "      <td>9351.96</td>\n",
       "      <td>0</td>\n",
       "      <td>2547</td>\n",
       "      <td>259111</td>\n",
       "    </tr>\n",
       "    <tr>\n",
       "      <th>EP_SUM</th>\n",
       "      <td>62988</td>\n",
       "      <td>NaN</td>\n",
       "      <td>NaN</td>\n",
       "      <td>NaN</td>\n",
       "      <td>265.69</td>\n",
       "      <td>1645.7</td>\n",
       "      <td>0</td>\n",
       "      <td>0</td>\n",
       "      <td>74460</td>\n",
       "    </tr>\n",
       "    <tr>\n",
       "      <th>ADD_Point_SUM</th>\n",
       "      <td>62988</td>\n",
       "      <td>NaN</td>\n",
       "      <td>NaN</td>\n",
       "      <td>NaN</td>\n",
       "      <td>1355.01</td>\n",
       "      <td>7868.48</td>\n",
       "      <td>0</td>\n",
       "      <td>0</td>\n",
       "      <td>984938</td>\n",
       "    </tr>\n",
       "    <tr>\n",
       "      <th>Eli_Add_Point_Sum</th>\n",
       "      <td>62988</td>\n",
       "      <td>NaN</td>\n",
       "      <td>NaN</td>\n",
       "      <td>NaN</td>\n",
       "      <td>1620.7</td>\n",
       "      <td>8294.4</td>\n",
       "      <td>0</td>\n",
       "      <td>0</td>\n",
       "      <td>984938</td>\n",
       "    </tr>\n",
       "    <tr>\n",
       "      <th>L1Y_ELi_Add_Points</th>\n",
       "      <td>62988</td>\n",
       "      <td>NaN</td>\n",
       "      <td>NaN</td>\n",
       "      <td>NaN</td>\n",
       "      <td>1080.38</td>\n",
       "      <td>5639.86</td>\n",
       "      <td>0</td>\n",
       "      <td>0</td>\n",
       "      <td>728282</td>\n",
       "    </tr>\n",
       "    <tr>\n",
       "      <th>Points_Sum</th>\n",
       "      <td>62988</td>\n",
       "      <td>NaN</td>\n",
       "      <td>NaN</td>\n",
       "      <td>NaN</td>\n",
       "      <td>12545.8</td>\n",
       "      <td>20507.8</td>\n",
       "      <td>0</td>\n",
       "      <td>6328.5</td>\n",
       "      <td>985572</td>\n",
       "    </tr>\n",
       "    <tr>\n",
       "      <th>L1Y_Points_Sum</th>\n",
       "      <td>62988</td>\n",
       "      <td>NaN</td>\n",
       "      <td>NaN</td>\n",
       "      <td>NaN</td>\n",
       "      <td>6638.74</td>\n",
       "      <td>12601.8</td>\n",
       "      <td>0</td>\n",
       "      <td>2860.5</td>\n",
       "      <td>728282</td>\n",
       "    </tr>\n",
       "    <tr>\n",
       "      <th>Ration_L1Y_Flight_Count</th>\n",
       "      <td>62988</td>\n",
       "      <td>NaN</td>\n",
       "      <td>NaN</td>\n",
       "      <td>NaN</td>\n",
       "      <td>0.486419</td>\n",
       "      <td>0.319105</td>\n",
       "      <td>0</td>\n",
       "      <td>0.5</td>\n",
       "      <td>1</td>\n",
       "    </tr>\n",
       "    <tr>\n",
       "      <th>Ration_P1Y_Flight_Count</th>\n",
       "      <td>62988</td>\n",
       "      <td>NaN</td>\n",
       "      <td>NaN</td>\n",
       "      <td>NaN</td>\n",
       "      <td>0.513581</td>\n",
       "      <td>0.319105</td>\n",
       "      <td>0</td>\n",
       "      <td>0.5</td>\n",
       "      <td>1</td>\n",
       "    </tr>\n",
       "    <tr>\n",
       "      <th>Ration_P1Y_BPS</th>\n",
       "      <td>62988</td>\n",
       "      <td>NaN</td>\n",
       "      <td>NaN</td>\n",
       "      <td>NaN</td>\n",
       "      <td>0.522293</td>\n",
       "      <td>0.339632</td>\n",
       "      <td>0</td>\n",
       "      <td>0.514252</td>\n",
       "      <td>0.999989</td>\n",
       "    </tr>\n",
       "    <tr>\n",
       "      <th>Ration_L1Y_BPS</th>\n",
       "      <td>62988</td>\n",
       "      <td>NaN</td>\n",
       "      <td>NaN</td>\n",
       "      <td>NaN</td>\n",
       "      <td>0.468422</td>\n",
       "      <td>0.338956</td>\n",
       "      <td>0</td>\n",
       "      <td>0.476747</td>\n",
       "      <td>0.999993</td>\n",
       "    </tr>\n",
       "    <tr>\n",
       "      <th>Point_NotFlight</th>\n",
       "      <td>62988</td>\n",
       "      <td>NaN</td>\n",
       "      <td>NaN</td>\n",
       "      <td>NaN</td>\n",
       "      <td>2.72815</td>\n",
       "      <td>7.36416</td>\n",
       "      <td>0</td>\n",
       "      <td>0</td>\n",
       "      <td>140</td>\n",
       "    </tr>\n",
       "  </tbody>\n",
       "</table>\n",
       "</div>"
      ],
      "text/plain": [
       "                         count unique         top   freq      mean       std  \\\n",
       "MEMBER_NO                62988    NaN         NaN    NaN   31494.5   18183.2   \n",
       "FFP_DATE                 62988   3068  2011/01/13    184       NaN       NaN   \n",
       "FIRST_FLIGHT_DATE        62988   3406  2013/02/16     96       NaN       NaN   \n",
       "GENDER                   62985      2           男  48134       NaN       NaN   \n",
       "FFP_TIER                 62988    NaN         NaN    NaN   4.10216  0.373856   \n",
       "WORK_CITY                60719   3310          广州   9385       NaN       NaN   \n",
       "WORK_PROVINCE            59740   1185          广东  17507       NaN       NaN   \n",
       "WORK_COUNTRY             62962    118          CN  57748       NaN       NaN   \n",
       "AGE                      62568    NaN         NaN    NaN   42.4763   9.88591   \n",
       "LOAD_TIME                62988      1  2014/03/31  62988       NaN       NaN   \n",
       "FLIGHT_COUNT             62988    NaN         NaN    NaN   11.8394   14.0495   \n",
       "BP_SUM                   62988    NaN         NaN    NaN   10925.1   16339.5   \n",
       "EP_SUM_YR_1              62988    NaN         NaN    NaN         0         0   \n",
       "EP_SUM_YR_2              62988    NaN         NaN    NaN    265.69    1645.7   \n",
       "SUM_YR_1                 62437    NaN         NaN    NaN   5355.38   8109.45   \n",
       "SUM_YR_2                 62850    NaN         NaN    NaN   5604.03   8703.36   \n",
       "SEG_KM_SUM               62988    NaN         NaN    NaN   17123.9   20960.8   \n",
       "WEIGHTED_SEG_KM          62988    NaN         NaN    NaN   12777.2   17578.6   \n",
       "LAST_FLIGHT_DATE         62988    731  2014/03/31    959       NaN       NaN   \n",
       "AVG_FLIGHT_COUNT         62988    NaN         NaN    NaN   1.54215     1.787   \n",
       "AVG_BP_SUM               62988    NaN         NaN    NaN   1421.44   2083.12   \n",
       "BEGIN_TO_FIRST           62988    NaN         NaN    NaN   120.145   159.573   \n",
       "LAST_TO_END              62988    NaN         NaN    NaN    176.12   183.822   \n",
       "AVG_INTERVAL             62988    NaN         NaN    NaN   67.7498   77.5179   \n",
       "MAX_INTERVAL             62988    NaN         NaN    NaN   166.034   123.397   \n",
       "ADD_POINTS_SUM_YR_1      62988    NaN         NaN    NaN   540.317   3956.08   \n",
       "ADD_POINTS_SUM_YR_2      62988    NaN         NaN    NaN   814.689    5121.8   \n",
       "EXCHANGE_COUNT           62988    NaN         NaN    NaN  0.319775     1.136   \n",
       "avg_discount             62988    NaN         NaN    NaN  0.721558  0.185427   \n",
       "P1Y_Flight_Count         62988    NaN         NaN    NaN   5.76626   7.21092   \n",
       "L1Y_Flight_Count         62988    NaN         NaN    NaN   6.07316   8.17513   \n",
       "P1Y_BP_SUM               62988    NaN         NaN    NaN   5366.72   8537.77   \n",
       "L1Y_BP_SUM               62988    NaN         NaN    NaN   5558.36   9351.96   \n",
       "EP_SUM                   62988    NaN         NaN    NaN    265.69    1645.7   \n",
       "ADD_Point_SUM            62988    NaN         NaN    NaN   1355.01   7868.48   \n",
       "Eli_Add_Point_Sum        62988    NaN         NaN    NaN    1620.7    8294.4   \n",
       "L1Y_ELi_Add_Points       62988    NaN         NaN    NaN   1080.38   5639.86   \n",
       "Points_Sum               62988    NaN         NaN    NaN   12545.8   20507.8   \n",
       "L1Y_Points_Sum           62988    NaN         NaN    NaN   6638.74   12601.8   \n",
       "Ration_L1Y_Flight_Count  62988    NaN         NaN    NaN  0.486419  0.319105   \n",
       "Ration_P1Y_Flight_Count  62988    NaN         NaN    NaN  0.513581  0.319105   \n",
       "Ration_P1Y_BPS           62988    NaN         NaN    NaN  0.522293  0.339632   \n",
       "Ration_L1Y_BPS           62988    NaN         NaN    NaN  0.468422  0.338956   \n",
       "Point_NotFlight          62988    NaN         NaN    NaN   2.72815   7.36416   \n",
       "\n",
       "                          min       50%       max  \n",
       "MEMBER_NO                   1   31494.5     62988  \n",
       "FFP_DATE                  NaN       NaN       NaN  \n",
       "FIRST_FLIGHT_DATE         NaN       NaN       NaN  \n",
       "GENDER                    NaN       NaN       NaN  \n",
       "FFP_TIER                    4         4         6  \n",
       "WORK_CITY                 NaN       NaN       NaN  \n",
       "WORK_PROVINCE             NaN       NaN       NaN  \n",
       "WORK_COUNTRY              NaN       NaN       NaN  \n",
       "AGE                         6        41       110  \n",
       "LOAD_TIME                 NaN       NaN       NaN  \n",
       "FLIGHT_COUNT                2         7       213  \n",
       "BP_SUM                      0      5700    505308  \n",
       "EP_SUM_YR_1                 0         0         0  \n",
       "EP_SUM_YR_2                 0         0     74460  \n",
       "SUM_YR_1                    0      2800    239560  \n",
       "SUM_YR_2                    0      2773    234188  \n",
       "SEG_KM_SUM                368      9994    580717  \n",
       "WEIGHTED_SEG_KM             0   6978.26    558440  \n",
       "LAST_FLIGHT_DATE          NaN       NaN       NaN  \n",
       "AVG_FLIGHT_COUNT         0.25     0.875    26.625  \n",
       "AVG_BP_SUM                  0   752.375   63163.5  \n",
       "BEGIN_TO_FIRST              0        50       729  \n",
       "LAST_TO_END                 1       108       731  \n",
       "AVG_INTERVAL                0   44.6667       728  \n",
       "MAX_INTERVAL                0       143       728  \n",
       "ADD_POINTS_SUM_YR_1         0         0    600000  \n",
       "ADD_POINTS_SUM_YR_2         0         0    728282  \n",
       "EXCHANGE_COUNT              0         0        46  \n",
       "avg_discount                0  0.711856       1.5  \n",
       "P1Y_Flight_Count            0         3       118  \n",
       "L1Y_Flight_Count            0         3       111  \n",
       "P1Y_BP_SUM                  0      2692    246197  \n",
       "L1Y_BP_SUM                  0      2547    259111  \n",
       "EP_SUM                      0         0     74460  \n",
       "ADD_Point_SUM               0         0    984938  \n",
       "Eli_Add_Point_Sum           0         0    984938  \n",
       "L1Y_ELi_Add_Points          0         0    728282  \n",
       "Points_Sum                  0    6328.5    985572  \n",
       "L1Y_Points_Sum              0    2860.5    728282  \n",
       "Ration_L1Y_Flight_Count     0       0.5         1  \n",
       "Ration_P1Y_Flight_Count     0       0.5         1  \n",
       "Ration_P1Y_BPS              0  0.514252  0.999989  \n",
       "Ration_L1Y_BPS              0  0.476747  0.999993  \n",
       "Point_NotFlight             0         0       140  "
      ]
     },
     "execution_count": 3,
     "metadata": {},
     "output_type": "execute_result"
    }
   ],
   "source": [
    "explore"
   ]
  },
  {
   "cell_type": "code",
   "execution_count": 4,
   "metadata": {},
   "outputs": [],
   "source": [
    "# describe()函数自动计算非空值数，需要手动计算空值数\n",
    "explore['null'] = len(data) - explore['count']\n",
    "explore = explore[['null','max','min']]\n",
    "explore.columns = [u'空数值',u'最大值',u'最小值']  # 表头重新命名"
   ]
  },
  {
   "cell_type": "code",
   "execution_count": 5,
   "metadata": {},
   "outputs": [
    {
     "data": {
      "text/html": [
       "<div>\n",
       "<style scoped>\n",
       "    .dataframe tbody tr th:only-of-type {\n",
       "        vertical-align: middle;\n",
       "    }\n",
       "\n",
       "    .dataframe tbody tr th {\n",
       "        vertical-align: top;\n",
       "    }\n",
       "\n",
       "    .dataframe thead th {\n",
       "        text-align: right;\n",
       "    }\n",
       "</style>\n",
       "<table border=\"1\" class=\"dataframe\">\n",
       "  <thead>\n",
       "    <tr style=\"text-align: right;\">\n",
       "      <th></th>\n",
       "      <th>空数值</th>\n",
       "      <th>最大值</th>\n",
       "      <th>最小值</th>\n",
       "    </tr>\n",
       "  </thead>\n",
       "  <tbody>\n",
       "    <tr>\n",
       "      <th>MEMBER_NO</th>\n",
       "      <td>0</td>\n",
       "      <td>62988</td>\n",
       "      <td>1</td>\n",
       "    </tr>\n",
       "    <tr>\n",
       "      <th>FFP_DATE</th>\n",
       "      <td>0</td>\n",
       "      <td>NaN</td>\n",
       "      <td>NaN</td>\n",
       "    </tr>\n",
       "    <tr>\n",
       "      <th>FIRST_FLIGHT_DATE</th>\n",
       "      <td>0</td>\n",
       "      <td>NaN</td>\n",
       "      <td>NaN</td>\n",
       "    </tr>\n",
       "    <tr>\n",
       "      <th>GENDER</th>\n",
       "      <td>3</td>\n",
       "      <td>NaN</td>\n",
       "      <td>NaN</td>\n",
       "    </tr>\n",
       "    <tr>\n",
       "      <th>FFP_TIER</th>\n",
       "      <td>0</td>\n",
       "      <td>6</td>\n",
       "      <td>4</td>\n",
       "    </tr>\n",
       "    <tr>\n",
       "      <th>WORK_CITY</th>\n",
       "      <td>2269</td>\n",
       "      <td>NaN</td>\n",
       "      <td>NaN</td>\n",
       "    </tr>\n",
       "    <tr>\n",
       "      <th>WORK_PROVINCE</th>\n",
       "      <td>3248</td>\n",
       "      <td>NaN</td>\n",
       "      <td>NaN</td>\n",
       "    </tr>\n",
       "    <tr>\n",
       "      <th>WORK_COUNTRY</th>\n",
       "      <td>26</td>\n",
       "      <td>NaN</td>\n",
       "      <td>NaN</td>\n",
       "    </tr>\n",
       "    <tr>\n",
       "      <th>AGE</th>\n",
       "      <td>420</td>\n",
       "      <td>110</td>\n",
       "      <td>6</td>\n",
       "    </tr>\n",
       "    <tr>\n",
       "      <th>LOAD_TIME</th>\n",
       "      <td>0</td>\n",
       "      <td>NaN</td>\n",
       "      <td>NaN</td>\n",
       "    </tr>\n",
       "    <tr>\n",
       "      <th>FLIGHT_COUNT</th>\n",
       "      <td>0</td>\n",
       "      <td>213</td>\n",
       "      <td>2</td>\n",
       "    </tr>\n",
       "    <tr>\n",
       "      <th>BP_SUM</th>\n",
       "      <td>0</td>\n",
       "      <td>505308</td>\n",
       "      <td>0</td>\n",
       "    </tr>\n",
       "    <tr>\n",
       "      <th>EP_SUM_YR_1</th>\n",
       "      <td>0</td>\n",
       "      <td>0</td>\n",
       "      <td>0</td>\n",
       "    </tr>\n",
       "    <tr>\n",
       "      <th>EP_SUM_YR_2</th>\n",
       "      <td>0</td>\n",
       "      <td>74460</td>\n",
       "      <td>0</td>\n",
       "    </tr>\n",
       "    <tr>\n",
       "      <th>SUM_YR_1</th>\n",
       "      <td>551</td>\n",
       "      <td>239560</td>\n",
       "      <td>0</td>\n",
       "    </tr>\n",
       "    <tr>\n",
       "      <th>SUM_YR_2</th>\n",
       "      <td>138</td>\n",
       "      <td>234188</td>\n",
       "      <td>0</td>\n",
       "    </tr>\n",
       "    <tr>\n",
       "      <th>SEG_KM_SUM</th>\n",
       "      <td>0</td>\n",
       "      <td>580717</td>\n",
       "      <td>368</td>\n",
       "    </tr>\n",
       "    <tr>\n",
       "      <th>WEIGHTED_SEG_KM</th>\n",
       "      <td>0</td>\n",
       "      <td>558440</td>\n",
       "      <td>0</td>\n",
       "    </tr>\n",
       "    <tr>\n",
       "      <th>LAST_FLIGHT_DATE</th>\n",
       "      <td>0</td>\n",
       "      <td>NaN</td>\n",
       "      <td>NaN</td>\n",
       "    </tr>\n",
       "    <tr>\n",
       "      <th>AVG_FLIGHT_COUNT</th>\n",
       "      <td>0</td>\n",
       "      <td>26.625</td>\n",
       "      <td>0.25</td>\n",
       "    </tr>\n",
       "    <tr>\n",
       "      <th>AVG_BP_SUM</th>\n",
       "      <td>0</td>\n",
       "      <td>63163.5</td>\n",
       "      <td>0</td>\n",
       "    </tr>\n",
       "    <tr>\n",
       "      <th>BEGIN_TO_FIRST</th>\n",
       "      <td>0</td>\n",
       "      <td>729</td>\n",
       "      <td>0</td>\n",
       "    </tr>\n",
       "    <tr>\n",
       "      <th>LAST_TO_END</th>\n",
       "      <td>0</td>\n",
       "      <td>731</td>\n",
       "      <td>1</td>\n",
       "    </tr>\n",
       "    <tr>\n",
       "      <th>AVG_INTERVAL</th>\n",
       "      <td>0</td>\n",
       "      <td>728</td>\n",
       "      <td>0</td>\n",
       "    </tr>\n",
       "    <tr>\n",
       "      <th>MAX_INTERVAL</th>\n",
       "      <td>0</td>\n",
       "      <td>728</td>\n",
       "      <td>0</td>\n",
       "    </tr>\n",
       "    <tr>\n",
       "      <th>ADD_POINTS_SUM_YR_1</th>\n",
       "      <td>0</td>\n",
       "      <td>600000</td>\n",
       "      <td>0</td>\n",
       "    </tr>\n",
       "    <tr>\n",
       "      <th>ADD_POINTS_SUM_YR_2</th>\n",
       "      <td>0</td>\n",
       "      <td>728282</td>\n",
       "      <td>0</td>\n",
       "    </tr>\n",
       "    <tr>\n",
       "      <th>EXCHANGE_COUNT</th>\n",
       "      <td>0</td>\n",
       "      <td>46</td>\n",
       "      <td>0</td>\n",
       "    </tr>\n",
       "    <tr>\n",
       "      <th>avg_discount</th>\n",
       "      <td>0</td>\n",
       "      <td>1.5</td>\n",
       "      <td>0</td>\n",
       "    </tr>\n",
       "    <tr>\n",
       "      <th>P1Y_Flight_Count</th>\n",
       "      <td>0</td>\n",
       "      <td>118</td>\n",
       "      <td>0</td>\n",
       "    </tr>\n",
       "    <tr>\n",
       "      <th>L1Y_Flight_Count</th>\n",
       "      <td>0</td>\n",
       "      <td>111</td>\n",
       "      <td>0</td>\n",
       "    </tr>\n",
       "    <tr>\n",
       "      <th>P1Y_BP_SUM</th>\n",
       "      <td>0</td>\n",
       "      <td>246197</td>\n",
       "      <td>0</td>\n",
       "    </tr>\n",
       "    <tr>\n",
       "      <th>L1Y_BP_SUM</th>\n",
       "      <td>0</td>\n",
       "      <td>259111</td>\n",
       "      <td>0</td>\n",
       "    </tr>\n",
       "    <tr>\n",
       "      <th>EP_SUM</th>\n",
       "      <td>0</td>\n",
       "      <td>74460</td>\n",
       "      <td>0</td>\n",
       "    </tr>\n",
       "    <tr>\n",
       "      <th>ADD_Point_SUM</th>\n",
       "      <td>0</td>\n",
       "      <td>984938</td>\n",
       "      <td>0</td>\n",
       "    </tr>\n",
       "    <tr>\n",
       "      <th>Eli_Add_Point_Sum</th>\n",
       "      <td>0</td>\n",
       "      <td>984938</td>\n",
       "      <td>0</td>\n",
       "    </tr>\n",
       "    <tr>\n",
       "      <th>L1Y_ELi_Add_Points</th>\n",
       "      <td>0</td>\n",
       "      <td>728282</td>\n",
       "      <td>0</td>\n",
       "    </tr>\n",
       "    <tr>\n",
       "      <th>Points_Sum</th>\n",
       "      <td>0</td>\n",
       "      <td>985572</td>\n",
       "      <td>0</td>\n",
       "    </tr>\n",
       "    <tr>\n",
       "      <th>L1Y_Points_Sum</th>\n",
       "      <td>0</td>\n",
       "      <td>728282</td>\n",
       "      <td>0</td>\n",
       "    </tr>\n",
       "    <tr>\n",
       "      <th>Ration_L1Y_Flight_Count</th>\n",
       "      <td>0</td>\n",
       "      <td>1</td>\n",
       "      <td>0</td>\n",
       "    </tr>\n",
       "    <tr>\n",
       "      <th>Ration_P1Y_Flight_Count</th>\n",
       "      <td>0</td>\n",
       "      <td>1</td>\n",
       "      <td>0</td>\n",
       "    </tr>\n",
       "    <tr>\n",
       "      <th>Ration_P1Y_BPS</th>\n",
       "      <td>0</td>\n",
       "      <td>0.999989</td>\n",
       "      <td>0</td>\n",
       "    </tr>\n",
       "    <tr>\n",
       "      <th>Ration_L1Y_BPS</th>\n",
       "      <td>0</td>\n",
       "      <td>0.999993</td>\n",
       "      <td>0</td>\n",
       "    </tr>\n",
       "    <tr>\n",
       "      <th>Point_NotFlight</th>\n",
       "      <td>0</td>\n",
       "      <td>140</td>\n",
       "      <td>0</td>\n",
       "    </tr>\n",
       "  </tbody>\n",
       "</table>\n",
       "</div>"
      ],
      "text/plain": [
       "                          空数值       最大值   最小值\n",
       "MEMBER_NO                   0     62988     1\n",
       "FFP_DATE                    0       NaN   NaN\n",
       "FIRST_FLIGHT_DATE           0       NaN   NaN\n",
       "GENDER                      3       NaN   NaN\n",
       "FFP_TIER                    0         6     4\n",
       "WORK_CITY                2269       NaN   NaN\n",
       "WORK_PROVINCE            3248       NaN   NaN\n",
       "WORK_COUNTRY               26       NaN   NaN\n",
       "AGE                       420       110     6\n",
       "LOAD_TIME                   0       NaN   NaN\n",
       "FLIGHT_COUNT                0       213     2\n",
       "BP_SUM                      0    505308     0\n",
       "EP_SUM_YR_1                 0         0     0\n",
       "EP_SUM_YR_2                 0     74460     0\n",
       "SUM_YR_1                  551    239560     0\n",
       "SUM_YR_2                  138    234188     0\n",
       "SEG_KM_SUM                  0    580717   368\n",
       "WEIGHTED_SEG_KM             0    558440     0\n",
       "LAST_FLIGHT_DATE            0       NaN   NaN\n",
       "AVG_FLIGHT_COUNT            0    26.625  0.25\n",
       "AVG_BP_SUM                  0   63163.5     0\n",
       "BEGIN_TO_FIRST              0       729     0\n",
       "LAST_TO_END                 0       731     1\n",
       "AVG_INTERVAL                0       728     0\n",
       "MAX_INTERVAL                0       728     0\n",
       "ADD_POINTS_SUM_YR_1         0    600000     0\n",
       "ADD_POINTS_SUM_YR_2         0    728282     0\n",
       "EXCHANGE_COUNT              0        46     0\n",
       "avg_discount                0       1.5     0\n",
       "P1Y_Flight_Count            0       118     0\n",
       "L1Y_Flight_Count            0       111     0\n",
       "P1Y_BP_SUM                  0    246197     0\n",
       "L1Y_BP_SUM                  0    259111     0\n",
       "EP_SUM                      0     74460     0\n",
       "ADD_Point_SUM               0    984938     0\n",
       "Eli_Add_Point_Sum           0    984938     0\n",
       "L1Y_ELi_Add_Points          0    728282     0\n",
       "Points_Sum                  0    985572     0\n",
       "L1Y_Points_Sum              0    728282     0\n",
       "Ration_L1Y_Flight_Count     0         1     0\n",
       "Ration_P1Y_Flight_Count     0         1     0\n",
       "Ration_P1Y_BPS              0  0.999989     0\n",
       "Ration_L1Y_BPS              0  0.999993     0\n",
       "Point_NotFlight             0       140     0"
      ]
     },
     "execution_count": 5,
     "metadata": {},
     "output_type": "execute_result"
    }
   ],
   "source": [
    "explore"
   ]
  },
  {
   "cell_type": "code",
   "execution_count": null,
   "metadata": {},
   "outputs": [],
   "source": [
    "# 导出结果\n",
    "explore.to_csv('/temp/explore.csv')"
   ]
  },
  {
   "cell_type": "markdown",
   "metadata": {},
   "source": [
    "2. 分布分析"
   ]
  },
  {
   "cell_type": "markdown",
   "metadata": {},
   "source": [
    "分别从客户基本信息，乘机信息，积分信息3个角度进行数据探索，寻找客户信息的分布规律\n",
    "\n",
    "（1） 客户基本信息分布分析 选取客户基本信息中的入会信息、性别、\n",
    "会员卡级别和年龄字段进行探索分析，探索客户的基本信息分布情况"
   ]
  },
  {
   "cell_type": "code",
   "execution_count": 8,
   "metadata": {},
   "outputs": [],
   "source": [
    "# 客户信息类别\n",
    "# 提取会员入会年份\n",
    "from datetime import datetime\n",
    "ffp = data['FFP_DATE'].apply(lambda x:datetime.strptime(x,'%Y/%m/%d'))"
   ]
  },
  {
   "cell_type": "code",
   "execution_count": 7,
   "metadata": {},
   "outputs": [
    {
     "data": {
      "text/plain": [
       "0       2006-11-02\n",
       "1       2007-02-19\n",
       "2       2007-02-01\n",
       "3       2008-08-22\n",
       "4       2009-04-10\n",
       "           ...    \n",
       "62983   2011-05-20\n",
       "62984   2010-03-08\n",
       "62985   2006-03-30\n",
       "62986   2013-02-06\n",
       "62987   2013-02-17\n",
       "Name: FFP_DATE, Length: 62988, dtype: datetime64[ns]"
      ]
     },
     "execution_count": 7,
     "metadata": {},
     "output_type": "execute_result"
    }
   ],
   "source": [
    "ffp"
   ]
  },
  {
   "cell_type": "code",
   "execution_count": 9,
   "metadata": {},
   "outputs": [],
   "source": [
    "ffp_year = ffp.map(lambda x:x.year)"
   ]
  },
  {
   "cell_type": "code",
   "execution_count": 10,
   "metadata": {},
   "outputs": [
    {
     "data": {
      "image/png": "[encoded data removed]",
      "text/plain": [
       "<Figure size 576x360 with 1 Axes>"
      ]
     },
     "metadata": {
      "needs_background": "light"
     },
     "output_type": "display_data"
    }
   ],
   "source": [
    "# 绘制各年份会员入会人数直方图\n",
    "import matplotlib\n",
    "import matplotlib.pyplot as plt\n",
    "fig = plt.figure(figsize = (8,5))\n",
    "\n",
    "plt.rcParams['font.sans-serif'] = 'SimHei'\n",
    "plt.rcParams['axes.unicode_minus'] = False\n",
    "plt.hist(ffp_year, bins='auto', color='#0504aa')\n",
    "plt.xlabel('年份')\n",
    "plt.ylabel('入会人数')\n",
    "plt.title('各年份入会人数')\n",
    "plt.show()"
   ]
  },
  {
   "cell_type": "code",
   "execution_count": 11,
   "metadata": {},
   "outputs": [
    {
     "data": {
      "image/png": "[encoded data removed]",
      "text/plain": [
       "<Figure size 504x288 with 1 Axes>"
      ]
     },
     "metadata": {},
     "output_type": "display_data"
    }
   ],
   "source": [
    "# 提取不同性别人数\n",
    "male = pd.value_counts(data['GENDER'])['男']\n",
    "female = pd.value_counts(data['GENDER'])['女']\n",
    "# 绘制会员性别比例饼图\n",
    "fig = plt.figure(figsize=(7,4))\n",
    "plt.pie([male, female], labels=['男','女'], colors = ['lightskyblue','lightcoral'], autopct = '%1.1f%%')\n",
    "plt.title('会员性别比例')\n",
    "plt.show()"
   ]
  },
  {
   "cell_type": "code",
   "execution_count": 12,
   "metadata": {},
   "outputs": [
    {
     "data": {
      "image/png": "[encoded data removed]",
      "text/plain": [
       "<Figure size 576x360 with 1 Axes>"
      ]
     },
     "metadata": {
      "needs_background": "light"
     },
     "output_type": "display_data"
    }
   ],
   "source": [
    "# 提取不同级别会员的人数\n",
    "lv_four = pd.value_counts(data['FFP_TIER'])[4]\n",
    "lv_five = pd.value_counts(data['FFP_TIER'])[5]\n",
    "lv_six = pd.value_counts(data['FFP_TIER'])[6]\n",
    "# 绘制会员各级别人数条形图\n",
    "fig = plt.figure(figsize=(8,5))\n",
    "plt.bar(x=range(3),height=[lv_four, lv_five, lv_six], width=0.4, alpha=0.8, color='darkblue')\n",
    "plt.xticks([index for index in range(3)],['4','5','6'])\n",
    "plt.xlabel('会员等级')\n",
    "plt.ylabel('会员人数')\n",
    "plt.title('会员各级人数')\n",
    "plt.show()"
   ]
  },
  {
   "cell_type": "code",
   "execution_count": 13,
   "metadata": {},
   "outputs": [
    {
     "data": {
      "image/png": "[encoded data removed]",
      "text/plain": [
       "<Figure size 360x720 with 1 Axes>"
      ]
     },
     "metadata": {
      "needs_background": "light"
     },
     "output_type": "display_data"
    }
   ],
   "source": [
    "# 提取会员年龄\n",
    "age = data['AGE'].dropna()\n",
    "age = age.astype('int64')\n",
    "# 绘制会员年龄分布箱线图\n",
    "fig = plt.figure(figsize=(5,10))\n",
    "plt.boxplot(age,\n",
    "           patch_artist = True, # 上下四分位框是否填充\n",
    "           labels = ['会员年龄'],\n",
    "           boxprops = {'facecolor':'lightblue'}) # 设置填充颜色\n",
    "plt.title('会员年龄分布箱线图')\n",
    "plt.grid(axis = 'y')\n",
    "plt.show()"
   ]
  },
  {
   "cell_type": "markdown",
   "metadata": {},
   "source": [
    "（2）客户乘机信息分布分析\n",
    "\n",
    " 选取最后一次乘机至结束的时长，客户乘机信息中的飞行次数，总飞行公里数进行探索分析，探索客户的乘积信息分布情况。"
   ]
  },
  {
   "cell_type": "code",
   "execution_count": 14,
   "metadata": {},
   "outputs": [
    {
     "data": {
      "image/png": "[encoded data removed]",
      "text/plain": [
       "<Figure size 360x576 with 1 Axes>"
      ]
     },
     "metadata": {
      "needs_background": "light"
     },
     "output_type": "display_data"
    }
   ],
   "source": [
    "lte = data['LAST_TO_END']\n",
    "fc = data['FLIGHT_COUNT']\n",
    "sks = data['SEG_KM_SUM'] # 观测窗口总飞行公里数\n",
    "# 绘制最后乘机至结束时长箱型图\n",
    "fig = plt.figure(figsize = (5,8))\n",
    "plt.boxplot(lte, patch_artist=True, labels=['时长'],boxprops = {'facecolor':'lightblue'})\n",
    "plt.title('会员最后乘机至结束时长分布箱型图')\n",
    "plt.grid(axis = 'y')\n",
    "plt.show()"
   ]
  },
  {
   "cell_type": "code",
   "execution_count": 15,
   "metadata": {},
   "outputs": [
    {
     "data": {
      "image/png": "[encoded data removed]",
      "text/plain": [
       "<Figure size 360x576 with 1 Axes>"
      ]
     },
     "metadata": {
      "needs_background": "light"
     },
     "output_type": "display_data"
    },
    {
     "data": {
      "image/png": "[encoded data removed]",
      "text/plain": [
       "<Figure size 360x576 with 1 Axes>"
      ]
     },
     "metadata": {
      "needs_background": "light"
     },
     "output_type": "display_data"
    }
   ],
   "source": [
    "# 绘制客户飞行次数箱型图\n",
    "fig = plt.figure(figsize = (5,8))\n",
    "plt.boxplot(fc, patch_artist=True, labels=['飞行次数'],boxprops = {'facecolor':'lightblue'})\n",
    "plt.title('会员飞行次数分布箱型图')\n",
    "plt.grid(axis = 'y')\n",
    "\n",
    "fig = plt.figure(figsize = (5,8))\n",
    "plt.boxplot(sks, patch_artist=True, labels=['总飞行公里数'],boxprops = {'facecolor':'lightblue'})\n",
    "plt.title('客户总飞行公里数箱线图')\n",
    "plt.grid(axis = 'y')\n",
    "# plt.show()\n",
    "plt.show()"
   ]
  },
  {
   "cell_type": "markdown",
   "metadata": {},
   "source": [
    "3. 客户积分信息分布分析\n",
    "\n",
    "选取积分兑换次数、总累计积分进行探索分析，探索客户的积分信息分布情况。"
   ]
  },
  {
   "cell_type": "code",
   "execution_count": 16,
   "metadata": {},
   "outputs": [
    {
     "data": {
      "image/png": "[encoded data removed]",
      "text/plain": [
       "<Figure size 576x360 with 1 Axes>"
      ]
     },
     "metadata": {
      "needs_background": "light"
     },
     "output_type": "display_data"
    }
   ],
   "source": [
    "# 积分信息类别\n",
    "# 提取会员积分兑换次数\n",
    "\n",
    "ec = data['EXCHANGE_COUNT']\n",
    "# 绘制会员兑换次数直方图\n",
    "fig = plt.figure(figsize=(8,5))\n",
    "plt.hist(ec, bins = 10, color = '#0504aa')\n",
    "plt.xlabel('兑换次数')\n",
    "plt.ylabel('会员人数')\n",
    "plt.title('会员兑换积分次数分布直方图')\n",
    "plt.show()"
   ]
  },
  {
   "cell_type": "code",
   "execution_count": 17,
   "metadata": {},
   "outputs": [
    {
     "data": {
      "image/png": "[encoded data removed]",
      "text/plain": [
       "<Figure size 360x576 with 1 Axes>"
      ]
     },
     "metadata": {
      "needs_background": "light"
     },
     "output_type": "display_data"
    }
   ],
   "source": [
    "# 提取会员总累计积分\n",
    "ps = data['Points_Sum']\n",
    "# 提取会员总累计积分箱型图\n",
    "fig = plt.figure(figsize = (5,8))\n",
    "plt.boxplot(ps, patch_artist = True, labels = ['总累计积分'],boxprops = {'facecolor':'lightblue'})\n",
    "plt.title('客户总累计积分箱型图')\n",
    "plt.grid(axis = 'y')\n",
    "plt.show()"
   ]
  },
  {
   "cell_type": "markdown",
   "metadata": {},
   "source": [
    "通过两张图可以看出：绝大部分的客户的兑换次数在0-5区间内，表示大部分客户都很少进行积分兑换。第二张图，一分部客户集中在箱体中，\n",
    "少部分客户分散分布在箱体上方，这部分客户的积分要明显高于箱体内的客户的积分。"
   ]
  },
  {
   "cell_type": "markdown",
   "metadata": {},
   "source": [
    "### 相关性分析\n",
    "\n",
    "客户信息属性之间存在相关性，选取入会时间，会员卡级别，客户年龄，飞行次数，总飞行公里数，最近一次乘机至结束时长\n",
    "积分兑换次数，总累计积分属性，通过相关系数矩阵与热力图分析各属性之间的相关性。"
   ]
  },
  {
   "cell_type": "code",
   "execution_count": 18,
   "metadata": {
    "scrolled": true
   },
   "outputs": [
    {
     "name": "stderr",
     "output_type": "stream",
     "text": [
      "/Users/fengminwu/opt/anaconda3/lib/python3.7/site-packages/ipykernel_launcher.py:6: SettingWithCopyWarning: \n",
      "A value is trying to be set on a copy of a slice from a DataFrame.\n",
      "Try using .loc[row_indexer,col_indexer] = value instead\n",
      "\n",
      "See the caveats in the documentation: https://pandas.pydata.org/pandas-docs/stable/user_guide/indexing.html#returning-a-view-versus-a-copy\n",
      "  \n",
      "/Users/fengminwu/opt/anaconda3/lib/python3.7/site-packages/ipykernel_launcher.py:7: SettingWithCopyWarning: \n",
      "A value is trying to be set on a copy of a slice from a DataFrame.\n",
      "Try using .loc[row_indexer,col_indexer] = value instead\n",
      "\n",
      "See the caveats in the documentation: https://pandas.pydata.org/pandas-docs/stable/user_guide/indexing.html#returning-a-view-versus-a-copy\n",
      "  import sys\n"
     ]
    },
    {
     "name": "stdout",
     "output_type": "stream",
     "text": [
      "相关性矩阵为：\n",
      "                 FFP_TIER  FLIGHT_COUNT  LAST_TO_END  SEG_KM_SUM  \\\n",
      "FFP_TIER        1.000000      0.582447    -0.206313    0.522350   \n",
      "FLIGHT_COUNT    0.582447      1.000000    -0.404999    0.850411   \n",
      "LAST_TO_END    -0.206313     -0.404999     1.000000   -0.369509   \n",
      "SEG_KM_SUM      0.522350      0.850411    -0.369509    1.000000   \n",
      "EXCHANGE_COUNT  0.342355      0.502501    -0.169717    0.507819   \n",
      "Points_Sum      0.559249      0.747092    -0.292027    0.853014   \n",
      "AGE             0.076245      0.075309    -0.027654    0.087285   \n",
      "ffp_year       -0.116510     -0.188181     0.117913   -0.171508   \n",
      "\n",
      "                EXCHANGE_COUNT  Points_Sum       AGE  ffp_year  \n",
      "FFP_TIER              0.342355    0.559249  0.076245 -0.116510  \n",
      "FLIGHT_COUNT          0.502501    0.747092  0.075309 -0.188181  \n",
      "LAST_TO_END          -0.169717   -0.292027 -0.027654  0.117913  \n",
      "SEG_KM_SUM            0.507819    0.853014  0.087285 -0.171508  \n",
      "EXCHANGE_COUNT        1.000000    0.578581  0.032760 -0.216610  \n",
      "Points_Sum            0.578581    1.000000  0.074887 -0.163431  \n",
      "AGE                   0.032760    0.074887  1.000000 -0.242579  \n",
      "ffp_year             -0.216610   -0.163431 -0.242579  1.000000  \n"
     ]
    },
    {
     "data": {
      "image/png": "[encoded data removed]",
      "text/plain": [
       "<Figure size 720x720 with 2 Axes>"
      ]
     },
     "metadata": {
      "needs_background": "light"
     },
     "output_type": "display_data"
    }
   ],
   "source": [
    "# 提取属性合并为新数据集\n",
    "\n",
    "data_corr = data[['FFP_TIER', 'FLIGHT_COUNT','LAST_TO_END','SEG_KM_SUM','EXCHANGE_COUNT','Points_Sum']\n",
    "                ]\n",
    "age1 = data['AGE'].fillna(0)\n",
    "data_corr['AGE'] = age1.astype('int64')\n",
    "data_corr['ffp_year'] = ffp_year\n",
    "# 计算相关性矩阵\n",
    "dt_corr = data_corr.corr(method = 'pearson')\n",
    "print('相关性矩阵为：\\n', dt_corr)\n",
    "# 绘制热力图\n",
    "import seaborn as sns\n",
    "plt.subplots(figsize = (10,10))\n",
    "sns.heatmap(dt_corr, annot=True, vmax = 1, square = True)\n",
    "plt.show()"
   ]
  },
  {
   "cell_type": "markdown",
   "metadata": {},
   "source": [
    "## 数据预处理"
   ]
  },
  {
   "cell_type": "markdown",
   "metadata": {},
   "source": [
    "观察数据发现，原始数据中存在票价为空，票价最小值为0，折扣率最小值为0，总飞行公里数大于0的记录。票价为空值的数据可能是客户\n",
    "不存在乘机记录造成的，其他的数据可能是客户乘坐0折机票或者积分兑换造成的。由于原始数据量大，这类数据所占比例较小，对\n",
    "问题影响不大的可以丢弃处理。同时 在进行数据探索时，发现部分年龄大于100 的记录，也进行丢弃处理。"
   ]
  },
  {
   "cell_type": "markdown",
   "metadata": {},
   "source": [
    "所以处理的方法如下：\n",
    "\n",
    "1. 丢弃票价为空的记录\n",
    "2. 保留票价不为0，或者平均折扣率不为0且飞行公里数大于0的记录\n",
    "3. 丢弃年龄大于100 的记录"
   ]
  },
  {
   "cell_type": "code",
   "execution_count": 34,
   "metadata": {},
   "outputs": [
    {
     "name": "stdout",
     "output_type": "stream",
     "text": [
      "原始数据的形状为： (62988, 44)\n"
     ]
    }
   ],
   "source": [
    "import numpy as np\n",
    "import pandas as pd\n",
    "print('原始数据的形状为：', data.shape)"
   ]
  },
  {
   "cell_type": "code",
   "execution_count": 35,
   "metadata": {},
   "outputs": [
    {
     "name": "stdout",
     "output_type": "stream",
     "text": [
      "删除缺失记录后数据的大小为： (62299, 44)\n"
     ]
    }
   ],
   "source": [
    "# 去掉票价为空的记录\n",
    "airline_notnull = data.loc[data['SUM_YR_1'].notnull()&data['SUM_YR_2'].notnull(),:]\n",
    "print('删除缺失记录后数据的大小为：', airline_notnull.shape)"
   ]
  },
  {
   "cell_type": "code",
   "execution_count": 38,
   "metadata": {},
   "outputs": [],
   "source": [
    "# 只保留票价非零的，或者平均折扣率不为0且总飞行公里数大于0的记录\n",
    "index1 = airline_notnull['SUM_YR_1'] != 0\n",
    "index2 = airline_notnull['SUM_YR_2'] != 0\n",
    "index3 = (airline_notnull['SEG_KM_SUM'] > 0)&(airline_notnull['avg_discount'] != 0)\n",
    "index4 = airline_notnull['AGE'] > 100\n",
    "airline = airline_notnull[(index1 | index2) & index3 & ~index4]"
   ]
  },
  {
   "cell_type": "code",
   "execution_count": 39,
   "metadata": {},
   "outputs": [
    {
     "name": "stdout",
     "output_type": "stream",
     "text": [
      "数据清洗后数据的大小为： (62043, 44)\n"
     ]
    }
   ],
   "source": [
    "print('数据清洗后数据的大小为：', airline.shape)"
   ]
  },
  {
   "cell_type": "markdown",
   "metadata": {},
   "source": [
    "本案例的目标是客户价值分析，即通过航空公司客户数据识别不同价值的客户，识别客户价值应用最广泛的模型是RM模型。"
   ]
  },
  {
   "cell_type": "markdown",
   "metadata": {},
   "source": [
    "本案例将客户关系长度L， 消费时间间隔R，消费频率F，飞行历程M和折扣系数的平均值C这5个特征作为航空公司识别客户价值的特征。\n",
    "记为LRFMC模型。"
   ]
  },
  {
   "cell_type": "code",
   "execution_count": 40,
   "metadata": {},
   "outputs": [
    {
     "name": "stdout",
     "output_type": "stream",
     "text": [
      "筛选的属性前5行为：\n",
      "      FFP_DATE   LOAD_TIME  LAST_TO_END  FLIGHT_COUNT  SEG_KM_SUM  avg_discount\n",
      "0  2006/11/02  2014/03/31            1           210      580717      0.961639\n",
      "1  2007/02/19  2014/03/31            7           140      293678      1.252314\n",
      "2  2007/02/01  2014/03/31           11           135      283712      1.254676\n",
      "3  2008/08/22  2014/03/31           97            23      281336      1.090870\n",
      "4  2009/04/10  2014/03/31            5           152      309928      0.970658\n"
     ]
    }
   ],
   "source": [
    "# 属性选择\n",
    "airline_selection = airline[['FFP_DATE','LOAD_TIME','LAST_TO_END',\n",
    "                             'FLIGHT_COUNT','SEG_KM_SUM','avg_discount']]\n",
    "print('筛选的属性前5行为：\\n', airline_selection.head(5))"
   ]
  },
  {
   "cell_type": "code",
   "execution_count": 43,
   "metadata": {},
   "outputs": [
    {
     "name": "stdout",
     "output_type": "stream",
     "text": [
      "构建的LRFMC属性前5行为：\n",
      "            0  LAST_TO_END  FLIGHT_COUNT  SEG_KM_SUM  avg_discount\n",
      "0  90.200000            1           210      580717      0.961639\n",
      "1  86.566667            7           140      293678      1.252314\n",
      "2  87.166667           11           135      283712      1.254676\n",
      "3  68.233333           97            23      281336      1.090870\n",
      "4  60.533333            5           152      309928      0.970658\n"
     ]
    }
   ],
   "source": [
    "# 构造属性L\n",
    "L = pd.to_datetime(airline_selection['LOAD_TIME']) - pd.to_datetime(airline_selection['FFP_DATE'])\n",
    "L = L.astype('str').str.split().str[0]\n",
    "L = L.astype('int')/30\n",
    "# 合并属性\n",
    "airline_features = pd.concat([L, airline_selection.iloc[:,2:]], axis = 1)\n",
    "print('构建的LRFMC属性前5行为：\\n', airline_features.head(5))\n"
   ]
  },
  {
   "cell_type": "code",
   "execution_count": 46,
   "metadata": {},
   "outputs": [
    {
     "name": "stdout",
     "output_type": "stream",
     "text": [
      "标准化后LRFMC 5个属性为：\n",
      " [[ 1.43579256 -0.94493902 14.03402401 26.76115699  1.29554188]\n",
      " [ 1.30723219 -0.91188564  9.07321595 13.12686436  2.86817777]\n",
      " [ 1.32846234 -0.88985006  8.71887252 12.65348144  2.88095186]\n",
      " [ 0.65853304 -0.41608504  0.78157962 12.54062193  1.99471546]\n",
      " [ 0.3860794  -0.92290343  9.92364019 13.89873597  1.34433641]]\n"
     ]
    }
   ],
   "source": [
    "# 数据标准化\n",
    "from sklearn.preprocessing import StandardScaler\n",
    "data = StandardScaler().fit_transform(airline_features)\n",
    "print('标准化后LRFMC 5个属性为：\\n', data[:5,:])"
   ]
  },
  {
   "cell_type": "markdown",
   "metadata": {},
   "source": [
    "## 模型构建\n",
    "\n",
    "客户价值分析模型构建主要由2个部分组成：第一部分，根据航空公司客户5个指标的数据，对客户作聚类分群。\n",
    "第二部分，结合业务对每个客户群进行特征分析，分析其客户价值，并对客户群进行排名\n",
    "\n",
    "1. 客户聚类"
   ]
  },
  {
   "cell_type": "code",
   "execution_count": 48,
   "metadata": {},
   "outputs": [
    {
     "name": "stdout",
     "output_type": "stream",
     "text": [
      "各类聚类中心为：\n",
      " [[ 1.16088402e+00 -3.77441153e-01 -8.66305084e-02 -9.45410571e-02\n",
      "  -1.56699730e-01]\n",
      " [ 4.64671934e-02 -1.83347106e-03 -2.30222312e-01 -2.34604695e-01\n",
      "   2.17826398e+00]\n",
      " [-7.00400970e-01 -4.15181398e-01 -1.60852710e-01 -1.60602909e-01\n",
      "  -2.56563446e-01]\n",
      " [ 4.83708578e-01 -7.99390422e-01  2.48317171e+00  2.42445742e+00\n",
      "   3.09239622e-01]\n",
      " [-3.13194484e-01  1.68639463e+00 -5.73898809e-01 -5.36735791e-01\n",
      "  -1.75093685e-01]]\n",
      "各样本的类别标签为：\n",
      " [3 3 3 ... 2 4 4]\n"
     ]
    }
   ],
   "source": [
    "from sklearn.cluster import KMeans\n",
    "k = 5\n",
    "# 构建模型，随机种子设为123\n",
    "kmeans_model = KMeans(n_clusters = k, n_jobs = 4, random_state = 123)\n",
    "fit_kmeans = kmeans_model.fit(data)\n",
    "# 查看聚类结果\n",
    "kmeans_cc = kmeans_model.cluster_centers_     # 聚类中心\n",
    "print('各类聚类中心为：\\n', kmeans_cc)\n",
    "kmeans_labels = kmeans_model.labels_       # 样本类别的标签\n",
    "\n",
    "print('各样本的类别标签为：\\n',kmeans_labels)"
   ]
  },
  {
   "cell_type": "code",
   "execution_count": 49,
   "metadata": {},
   "outputs": [
    {
     "name": "stdout",
     "output_type": "stream",
     "text": [
      "最终每个类别的数目为：\n",
      " 2    24636\n",
      "0    15734\n",
      "4    12120\n",
      "3     5337\n",
      "1     4216\n",
      "dtype: int64\n"
     ]
    }
   ],
   "source": [
    "r1 = pd.Series(kmeans_model.labels_).value_counts()\n",
    "print('最终每个类别的数目为：\\n', r1)\n",
    "# 输出聚类分群的结果\n",
    "cluster_center = pd.DataFrame(kmeans_model.cluster_centers_, \n",
    "                              columns = ['ZL','ZR','ZF','ZM','ZC'])\n",
    "cluster_center.index = pd.DataFrame(kmeans_model.labels_).drop_duplicates().iloc[:,0]"
   ]
  },
  {
   "cell_type": "code",
   "execution_count": 50,
   "metadata": {},
   "outputs": [
    {
     "name": "stdout",
     "output_type": "stream",
     "text": [
      "         ZL        ZR        ZF        ZM        ZC\n",
      "0                                                  \n",
      "3  1.160884 -0.377441 -0.086631 -0.094541 -0.156700\n",
      "1  0.046467 -0.001833 -0.230222 -0.234605  2.178264\n",
      "0 -0.700401 -0.415181 -0.160853 -0.160603 -0.256563\n",
      "2  0.483709 -0.799390  2.483172  2.424457  0.309240\n",
      "4 -0.313194  1.686395 -0.573899 -0.536736 -0.175094\n"
     ]
    }
   ],
   "source": [
    "print(cluster_center)"
   ]
  },
  {
   "cell_type": "markdown",
   "metadata": {},
   "source": [
    "2. 客户价值分析"
   ]
  },
  {
   "cell_type": "code",
   "execution_count": 55,
   "metadata": {},
   "outputs": [
    {
     "name": "stdout",
     "output_type": "stream",
     "text": [
      "[1.160884020596542, 0.046467193416429776, -0.7004009696256859, 0.4837085783162159, -0.3131944841567741]\n",
      "         ZL        ZR        ZF        ZM        ZC\n",
      "0                                                  \n",
      "3  1.160884 -0.377441 -0.086631 -0.094541 -0.156700\n",
      "1  0.046467 -0.001833 -0.230222 -0.234605  2.178264\n",
      "0 -0.700401 -0.415181 -0.160853 -0.160603 -0.256563\n",
      "2  0.483709 -0.799390  2.483172  2.424457  0.309240\n",
      "4 -0.313194  1.686395 -0.573899 -0.536736 -0.175094\n",
      "Int64Index([3, 1, 0, 2, 4], dtype='int64', name=0)\n",
      "['客户群4', '客户群2', '客户群1', '客户群3', '客户群5']\n"
     ]
    }
   ],
   "source": [
    "import matplotlib.pyplot as plt\n",
    "labels = ['ZL','ZR','ZF','ZM','ZC']\n",
    "legen = ['客户群' + str(i+1) for i in cluster_center.index]\n",
    "lstype = ['-','--',(0,(3,5,1,5,1,5)),':','-.']\n",
    "kinds = list(cluster_center.iloc[:,0])  # 取了ZL列\n",
    "print(kinds)\n",
    "print(cluster_center.head(5))\n",
    "print(cluster_center.index)\n",
    "print(legen)"
   ]
  },
  {
   "cell_type": "code",
   "execution_count": 63,
   "metadata": {},
   "outputs": [
    {
     "name": "stdout",
     "output_type": "stream",
     "text": [
      "[0.         1.25663706 2.51327412 3.76991118 5.02654825 0.        ]\n",
      "[[ 1.16088402e+00 -3.77441153e-01 -8.66305084e-02 -9.45410571e-02\n",
      "  -1.56699730e-01  1.16088402e+00]\n",
      " [ 4.64671934e-02 -1.83347106e-03 -2.30222312e-01 -2.34604695e-01\n",
      "   2.17826398e+00  4.64671934e-02]\n",
      " [-7.00400970e-01 -4.15181398e-01 -1.60852710e-01 -1.60602909e-01\n",
      "  -2.56563446e-01 -7.00400970e-01]\n",
      " [ 4.83708578e-01 -7.99390422e-01  2.48317171e+00  2.42445742e+00\n",
      "   3.09239622e-01  4.83708578e-01]\n",
      " [-3.13194484e-01  1.68639463e+00 -5.73898809e-01 -5.36735791e-01\n",
      "  -1.75093685e-01 -3.13194484e-01]]\n"
     ]
    }
   ],
   "source": [
    "# 由于雷达图要保证数据闭合，因此在添加L列，并转换为np.ndarray\n",
    "cluster_center = pd.concat([cluster_center, cluster_center[['ZL']]], axis=1)\n",
    "# cluster_center.iloc[:,0:6]\n",
    "centers = np.array(cluster_center.iloc[:,0:6])\n",
    "\n",
    "# 分割圆周长，让其闭合\n",
    "n = len(labels)\n",
    "angle = np.linspace(0, 2 * np.pi, n, endpoint = False)\n",
    "angle = np.concatenate((angle, [angle[0]]))\n",
    "print(angle)\n",
    "print(centers)"
   ]
  },
  {
   "cell_type": "code",
   "execution_count": 64,
   "metadata": {},
   "outputs": [
    {
     "data": {
      "image/png": "[encoded data removed]",
      "text/plain": [
       "<Figure size 576x432 with 1 Axes>"
      ]
     },
     "metadata": {
      "needs_background": "light"
     },
     "output_type": "display_data"
    }
   ],
   "source": [
    "# 绘图\n",
    "fig = plt.figure(figsize = (8, 6))\n",
    "ax = fig.add_subplot(111, polar = True)\n",
    "for i in range(len(kinds)):\n",
    "    ax.plot(angle, centers[i], linestyle=lstype[i], linewidth = 2, label=kinds[i])\n",
    "# 添加属性标签\n",
    "ax.set_thetagrids(angle * 180 / np.pi, labels)\n",
    "plt.title('客户特征分析雷达图')\n",
    "plt.legend(legen)\n",
    "plt.show()"
   ]
  },
  {
   "cell_type": "code",
   "execution_count": null,
   "metadata": {},
   "outputs": [],
   "source": []
  }
 ],
 "metadata": {
  "kernelspec": {
   "display_name": "Python 3",
   "language": "python",
   "name": "python3"
  },
  "language_info": {
   "codemirror_mode": {
    "name": "ipython",
    "version": 3
   },
   "file_extension": ".py",
   "mimetype": "text/x-python",
   "name": "python",
   "nbconvert_exporter": "python",
   "pygments_lexer": "ipython3",
   "version": "3.7.6"
  }
 },
 "nbformat": 4,
 "nbformat_minor": 4
}
